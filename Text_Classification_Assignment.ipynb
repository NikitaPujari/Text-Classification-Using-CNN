{
  "cells": [
    {
      "cell_type": "markdown",
      "metadata": {
        "id": "mDMgSstPYv0P"
      },
      "source": [
        "# Text Classification:\n",
        "\n",
        "## Data\n",
        "<pre>\n",
        "1. we have total of 20 types of documents(Text files) and total 18828 documents(text files).\n",
        "2. You can download data from this <a href='https://drive.google.com/open?id=1rxD15nyeIPIAZ-J2VYPrDRZI66-TBWvM'>link</a>, in that you will get documents.rar folder. <br>If you unzip that, you will get total of 18828 documnets. document name is defined as'ClassLabel_DocumentNumberInThatLabel'. \n",
        "so from document name, you can extract the label for that document.\n",
        "4. Now our problem is to classify all the documents into any one of the class.\n",
        "5. Below we provided count plot of all the labels in our data. \n",
        "</pre>"
      ]
    },
    {
      "cell_type": "code",
      "execution_count": null,
      "metadata": {
        "id": "64U9NzWFYv0V"
      },
      "outputs": [],
      "source": [
        "### count plot of all the class labels. "
      ]
    },
    {
      "cell_type": "markdown",
      "metadata": {
        "id": "2mK4TJOFYv0h"
      },
      "source": [
        "## Assignment:"
      ]
    },
    {
      "cell_type": "markdown",
      "metadata": {
        "id": "VlqYFVI3Yv0k"
      },
      "source": [
        "#### sample document\n",
        "<pre>\n",
        "<font color='blue'>\n",
        "Subject: A word of advice\n",
        "From: jcopelan@nyx.cs.du.edu (The One and Only)\n",
        "\n",
        "In article < 65882@mimsy.umd.edu > mangoe@cs.umd.edu (Charley Wingate) writes:\n",
        ">\n",
        ">I've said 100 times that there is no \"alternative\" that should think you\n",
        ">might have caught on by now.  And there is no \"alternative\", but the point\n",
        ">is, \"rationality\" isn't an alternative either.  The problems of metaphysical\n",
        ">and religious knowledge are unsolvable-- or I should say, humans cannot\n",
        ">solve them.\n",
        "\n",
        "How does that saying go: Those who say it can't be done shouldn't interrupt\n",
        "those who are doing it.\n",
        "\n",
        "Jim\n",
        "--\n",
        "Have you washed your brain today?\n",
        "</font>\n",
        "</pre>"
      ]
    },
    {
      "cell_type": "markdown",
      "metadata": {
        "id": "KAR5HoR1Yv0m"
      },
      "source": [
        "### Preprocessing:\n",
        "<pre>\n",
        "useful links: <a href='http://www.pyregex.com/'>http://www.pyregex.com/</a>\n",
        "\n",
        "<font color='blue'><b>1.</b></font> Find all emails in the document and then get the text after the \"@\". and then split those texts by '.' \n",
        "after that remove the words whose length is less than or equal to 2 and also remove'com' word and then combine those words by space. \n",
        "In one doc, if we have 2 or more mails, get all.\n",
        "<b>Eg:[test@dm1.d.com, test2@dm2.dm3.com]-->[dm1.d.com, dm3.dm4.com]-->[dm1,d,com,dm2,dm3,com]-->[dm1,dm2,dm3]-->\"dm1 dm2 dm3\" </b> \n",
        "append all those into one list/array. ( This will give length of 18828 sentences i.e one list for each of the document). \n",
        "Some sample output was shown below. \n",
        "\n",
        "> In the above sample document there are emails [jcopelan@nyx.cs.du.edu, 65882@mimsy.umd.edu, mangoe@cs.umd.edu]\n",
        "\n",
        "preprocessing:\n",
        "[jcopelan@nyx.cs.du.edu, 65882@mimsy.umd.edu, mangoe@cs.umd.edu] ==> [nyx cs du edu mimsy umd edu cs umd edu] ==> \n",
        "[nyx edu mimsy umd edu umd edu]\n",
        "\n",
        "<font color='blue'><b>2.</b></font> Replace all the emails by space in the original text. \n",
        "</pre>"
      ]
    },
    {
      "cell_type": "code",
      "execution_count": null,
      "metadata": {
        "colab": {
          "base_uri": "https://localhost:8080/",
          "height": 182
        },
        "id": "KavKDD9FYv0p",
        "outputId": "0c2c7605-2e6d-4330-9487-83fe60e0394b"
      },
      "outputs": [
        {
          "output_type": "error",
          "ename": "NameError",
          "evalue": "ignored",
          "traceback": [
            "\u001b[0;31m---------------------------------------------------------------------------\u001b[0m",
            "\u001b[0;31mNameError\u001b[0m                                 Traceback (most recent call last)",
            "\u001b[0;32m<ipython-input-3-faecd4605953>\u001b[0m in \u001b[0;36m<module>\u001b[0;34m()\u001b[0m\n\u001b[1;32m      1\u001b[0m \u001b[0;31m# we have collected all emails and preprocessed them, this is sample output\u001b[0m\u001b[0;34m\u001b[0m\u001b[0;34m\u001b[0m\u001b[0;34m\u001b[0m\u001b[0m\n\u001b[0;32m----> 2\u001b[0;31m \u001b[0mpreprocessed_email\u001b[0m\u001b[0;34m\u001b[0m\u001b[0;34m\u001b[0m\u001b[0m\n\u001b[0m",
            "\u001b[0;31mNameError\u001b[0m: name 'preprocessed_email' is not defined"
          ]
        }
      ],
      "source": [
        "# we have collected all emails and preprocessed them, this is sample output\n",
        "preprocessed_email"
      ]
    },
    {
      "cell_type": "code",
      "execution_count": null,
      "metadata": {
        "id": "obReqs55Yv0v"
      },
      "outputs": [],
      "source": [
        "len(preprocessed_email)"
      ]
    },
    {
      "cell_type": "markdown",
      "metadata": {
        "id": "zIovFDQzYv03"
      },
      "source": [
        "<pre>\n",
        "<font color='blue'><b>3.</b></font> Get subject of the text i.e. get the total lines where \"Subject:\" occur and remove \n",
        "the word which are before the \":\" remove the newlines, tabs, punctuations, any special chars.\n",
        "<b>Eg: if we have sentance like \"Subject: Re: Gospel Dating @ \\r\\r\\n\" --> You have to get \"Gospel Dating\"</b> \n",
        "Save all this data into another list/array. \n",
        "\n",
        "<font color='blue'><b>4.</b></font> After you store it in the list, Replace those sentances in original text by space.\n",
        "\n",
        "<font color='blue'><b>5.</b></font> Delete all the sentances where sentence starts with <b>\"Write to:\"</b> or <b>\"From:\"</b>.\n",
        "> In the above sample document check the 2nd line, we should remove that\n",
        "\n",
        "<font color='blue'><b>6.</b></font> Delete all the tags like \"< anyword >\"\n",
        "> In the above sample document check the 4nd line, we should remove that \"< 65882@mimsy.umd.edu >\"\n",
        "\n",
        "\n",
        "<font color='blue'><b>7.</b></font> Delete all the data which are present in the brackets. \n",
        "In many text data, we observed that, they maintained the explanation of sentence \n",
        "or translation of sentence to another language in brackets so remove all those.\n",
        "<b>Eg: \"AAIC-The course that gets you HIRED(AAIC - Der Kurs, der Sie anstellt)\" --> \"AAIC-The course that gets you HIRED\"</b>\n",
        "\n",
        "> In the above sample document check the 4nd line, we should remove that \"(Charley Wingate)\"\n",
        "\n",
        "\n",
        "<font color='blue'><b>8.</b></font> Remove all the newlines('\\n'), tabs('\\t'), \"-\", \"\\\".\n",
        "\n",
        "<font color='blue'><b>9.</b></font> Remove all the words which ends with <b>\":\"</b>.\n",
        "<b>Eg: \"Anyword:\"</b>\n",
        "> In the above sample document check the 4nd line, we should remove that \"writes:\"\n",
        "\n",
        "\n",
        "<font color='blue'><b>10.</b></font> Decontractions, replace words like below to full words. \n",
        "please check the donors choose preprocessing for this \n",
        "<b>Eg: can't -> can not, 's -> is, i've -> i have, i'm -> i am, you're -> you are, i'll --> i will </b>\n",
        "\n",
        "<b> There is no order to do point 6 to 10. but you have to get final output correctly</b>\n",
        "\n",
        "<font color='blue'><b>11.</b></font> Do chunking on the text you have after above preprocessing. \n",
        "Text chunking, also referred to as shallow parsing, is a task that \n",
        "follows Part-Of-Speech Tagging and that adds more structure to the sentence.\n",
        "So it combines the some phrases, named entities into single word.\n",
        "So after that combine all those phrases/named entities by separating <b>\"_\"</b>. \n",
        "And remove the phrases/named entities if that is a \"Person\". \n",
        "You can use <b>nltk.ne_chunk</b> to get these. \n",
        "Below we have given one example. please go through it. \n",
        "\n",
        "useful links: \n",
        "<a href='https://www.nltk.org/book/ch07.html'>https://www.nltk.org/book/ch07.html</a>\n",
        "<a href='https://stackoverflow.com/a/31837224/4084039'>https://stackoverflow.com/a/31837224/4084039</a>\n",
        "<a href='http://www.nltk.org/howto/tree.html'>http://www.nltk.org/howto/tree.html</a>\n",
        "<a href='https://stackoverflow.com/a/44294377/4084039'>https://stackoverflow.com/a/44294377/4084039</a>\n",
        "</pre>"
      ]
    },
    {
      "cell_type": "code",
      "execution_count": null,
      "metadata": {
        "id": "2lAaKQ6EYv04"
      },
      "outputs": [],
      "source": [
        "#i am living in the New York\n",
        "print(\"i am living in the New York -->\", list(chunks))\n",
        "print(\" \")\n",
        "print(\"-\"*50)\n",
        "print(\" \")\n",
        "#My name is Srikanth Varma\n",
        "print(\"My name is Srikanth Varma -->\", list(chunks1))"
      ]
    },
    {
      "cell_type": "markdown",
      "metadata": {
        "id": "XV8gzLUjYv0-"
      },
      "source": [
        "<pre>We did chunking for above two lines and then We got one list where each word is mapped to a \n",
        "POS(parts of speech) and also if you see \"New York\" and \"Srikanth Varma\", \n",
        "they got combined and represented as a tree and \"New York\" was referred as \"GPE\" and \"Srikanth Varma\" was referred as \"PERSON\". \n",
        "so now you have to Combine the \"New York\" with <b>\"_\"</b> i.e \"New_York\"\n",
        "and remove the \"Srikanth Varma\" from the above sentence because it is a person.</pre>"
      ]
    },
    {
      "cell_type": "markdown",
      "metadata": {
        "id": "VpaC-KF3Yv1A"
      },
      "source": [
        "<pre>\n",
        "<font color='blue'><b>13.</b></font> Replace all the digits with space i.e delete all the digits. \n",
        "> In the above sample document, the 6th line have digit 100, so we have to remove that.\n",
        "\n",
        "<font color='blue'><b>14.</b></font> After doing above points, we observed there might be few word's like\n",
        " <b> \"_word_\" (i.e starting and ending with the _), \"_word\" (i.e starting with the _),\n",
        "  \"word_\" (i.e ending with the _)</b> remove the <b>_</b> from these type of words. \n",
        "\n",
        "<font color='blue'><b>15.</b></font>  We also observed some words like <b> \"OneLetter_word\"- eg: d_berlin, \n",
        "\"TwoLetters_word\" - eg: dr_berlin </b>, in these words we remove the \"OneLetter_\" (d_berlin ==> berlin) and \n",
        "\"TwoLetters_\" (de_berlin ==> berlin). i.e remove the words \n",
        "which are length less than or equal to 2 after spliiting those words by \"_\". \n",
        "\n",
        "<font color='blue'><b>16.</b></font> Convert all the words into lower case and lowe case \n",
        "and remove the words which are greater than or equal to 15 or less than or equal to 2.\n",
        "\n",
        "<font color='blue'><b>17.</b></font> replace all the words except \"A-Za-z_\" with space. \n",
        "\n",
        "<font color='blue'><b>18.</b></font> Now You got Preprocessed Text, email, subject. create a dataframe with those. \n",
        "Below are the columns of the df. \n",
        "</pre>"
      ]
    },
    {
      "cell_type": "code",
      "execution_count": null,
      "metadata": {
        "id": "hB43OGEfYv1C"
      },
      "outputs": [],
      "source": [
        "data.columns"
      ]
    },
    {
      "cell_type": "code",
      "execution_count": null,
      "metadata": {
        "id": "AM6A19xFYv1I"
      },
      "outputs": [],
      "source": [
        "data.iloc[400]"
      ]
    },
    {
      "cell_type": "markdown",
      "metadata": {
        "id": "rfWUeIN1Yv1N"
      },
      "source": [
        "### To get above mentioned data frame --> Try to Write Total Preprocessing steps in One Function Named Preprocess as below. "
      ]
    },
    {
      "cell_type": "markdown",
      "metadata": {
        "id": "ceASjKizYv1U"
      },
      "source": [
        "### Code checking:\n",
        "\n",
        "<font color='red' size=4>\n",
        "After Writing preprocess function. call that functoin with the input text of 'alt.atheism_49960' doc and print the output of the preprocess function\n",
        "<br>\n",
        "This will help us to evaluate faster, based on the output we can suggest you if there are any changes.\n",
        "</font>"
      ]
    },
    {
      "cell_type": "code",
      "source": [
        "from google.colab import drive\n",
        "drive.mount('/content/drive')"
      ],
      "metadata": {
        "colab": {
          "base_uri": "https://localhost:8080/"
        },
        "id": "DH-PAPl9PCx4",
        "outputId": "11964183-e240-4429-9b31-d18607b0b24a"
      },
      "execution_count": null,
      "outputs": [
        {
          "output_type": "stream",
          "name": "stdout",
          "text": [
            "Mounted at /content/drive\n"
          ]
        }
      ]
    },
    {
      "cell_type": "code",
      "execution_count": null,
      "metadata": {
        "colab": {
          "base_uri": "https://localhost:8080/"
        },
        "id": "ML8aHigTFwa-",
        "outputId": "d460a061-338b-4342-abe7-d00ec1b6b7b3"
      },
      "outputs": [
        {
          "output_type": "stream",
          "name": "stdout",
          "text": [
            "[nltk_data] Downloading package punkt to /root/nltk_data...\n",
            "[nltk_data]   Unzipping tokenizers/punkt.zip.\n",
            "[nltk_data] Downloading package averaged_perceptron_tagger to\n",
            "[nltk_data]     /root/nltk_data...\n",
            "[nltk_data]   Unzipping taggers/averaged_perceptron_tagger.zip.\n",
            "[nltk_data] Downloading package maxent_ne_chunker to\n",
            "[nltk_data]     /root/nltk_data...\n",
            "[nltk_data]   Unzipping chunkers/maxent_ne_chunker.zip.\n",
            "[nltk_data] Downloading package words to /root/nltk_data...\n",
            "[nltk_data]   Unzipping corpora/words.zip.\n"
          ]
        }
      ],
      "source": [
        "import re\n",
        "import os\n",
        "import string\n",
        "import nltk\n",
        "from nltk.tree import Tree\n",
        "from nltk import ne_chunk, pos_tag, word_tokenize\n",
        "nltk.download('punkt')\n",
        "nltk.download('averaged_perceptron_tagger')\n",
        "nltk.download('maxent_ne_chunker')\n",
        "nltk.download('words')\n",
        "from nltk.tree import Tree\n",
        "import tensorflow as tf\n",
        "\n",
        "from keras.preprocessing.text import Tokenizer\n",
        "from keras.preprocessing.sequence import pad_sequences\n",
        "from keras.models import Sequential\n",
        "from keras.layers import Dense\n",
        "from keras.layers import Flatten\n",
        "from keras.layers import Embedding\n",
        "import matplotlib.pyplot as plt\n",
        "from sklearn.model_selection import train_test_split\n",
        "import numpy as np\n",
        "import pandas as pd\n",
        "from tqdm import tqdm\n",
        "import pickle\n",
        "\n",
        "import tensorflow as tf\n",
        "from tensorflow import keras\n",
        "from tensorflow.keras import layers\n",
        "import datetime\n"
      ]
    },
    {
      "cell_type": "code",
      "execution_count": null,
      "metadata": {
        "id": "uEGEHTNQYv1N"
      },
      "outputs": [],
      "source": [
        "def preprocess(Input_Text):\n",
        "    \"\"\"Do all the Preprocessing as shown above and\n",
        "    return a tuple contain preprocess_email,preprocess_subject,preprocess_text for that Text_data\"\"\"\n",
        "    subject = ''\n",
        "    text = ''\n",
        "    #Process emails\n",
        "    emails = re.findall(r\"[a-z0-9\\.\\-+_]+@[a-z0-9\\.\\-+_]+\\.[a-z]+\", Input_Text)\n",
        "    words_in_email_list = []\n",
        "    for email in emails:\n",
        "        pos = email.find('@')\n",
        "        substring = email[pos+1:] \n",
        "        x = substring.split('.')\n",
        "        words_in_email_list.extend(x)\n",
        "    all_email_string = ''\n",
        "    for word in words_in_email_list:\n",
        "        if len(word) > 2 and word.lower() != 'com':\n",
        "            all_email_string += ' ' + word\n",
        "    all_email_string = all_email_string[1:]\n",
        "    list_of_preproessed_emails = all_email_string\n",
        "    Input_Text = re.sub(r\"[a-z0-9\\.\\-+_]+@[a-z0-9\\.\\-+_]+\\.[a-z]+\",\" \",Input_Text)\n",
        "   \n",
        "    #Process Subject\n",
        "    sub = re.findall(r'^Subject.*$',Input_Text, re.MULTILINE) \n",
        "    sub=sub[0]\n",
        "    sub=sub[8:]\n",
        "    #Remove word before ':' and new line and tab\n",
        "    sub_list = []\n",
        "    temp = sub.split()\n",
        "    for i in temp:\n",
        "        if i.endswith(':'):\n",
        "            pass\n",
        "        else:\n",
        "            sub_list.append(i)\n",
        "    subject = ' '.join(sub_list)\n",
        "    #Remove punctuations\n",
        "    for i in string.punctuation:\n",
        "        subject = subject.replace(i,\"\")\n",
        "\n",
        "    Input_Text = re.sub(r'^Subject.*$',\" \",Input_Text,flags=re.MULTILINE)\n",
        "    \n",
        "    #Process Text\n",
        "    #Remove From:\n",
        "    Input_Text = re.sub(r'^From.*$',\" \",Input_Text,flags=re.MULTILINE)\n",
        "    \n",
        "    #Remove Write to:\n",
        "    Input_Text = re.sub(r'^Write to.*$',\" \",Input_Text,flags=re.MULTILINE)\n",
        "    \n",
        "    #Remove tags <>\n",
        "    Input_Text = re.sub('<.*?>', '', Input_Text, flags=re.MULTILINE)\n",
        "    \n",
        "    #Remove brackets ()\n",
        "    Input_Text = re.sub('\\(.*?\\)', '', Input_Text, flags=re.MULTILINE)\n",
        "    \n",
        "    #Remove word before ':'\n",
        "    #Remove new line and tab \n",
        "    text_list = []\n",
        "    temp = Input_Text.split()\n",
        "    for i in temp:\n",
        "        if i.endswith(':'):\n",
        "            pass\n",
        "        else:\n",
        "            #Remove \"_\" from start and end of the words\n",
        "            i = i.strip(\"_\")\n",
        "            #Remove \"OneLetter_word\"- eg: d_berlin, \"TwoLetters_word\" - eg: dr_berlin\n",
        "            j = i.split(\"_\")\n",
        "            if len(j) > 1:\n",
        "                if len(j[0]) > 2:\n",
        "                    pass\n",
        "                else:\n",
        "                    i = j[1]\n",
        "            #Remove words having length <= 2 and > 15\n",
        "            if len(i) > 2 or len(i) < 15:\n",
        "                text_list.append(i.lower())\n",
        "    text = ' '.join(text_list)\n",
        "    \n",
        "    #Remove punctuations\n",
        "    for i in string.punctuation:\n",
        "        text = text.replace(i,\"\")\n",
        "        \n",
        "    #Decontraction\n",
        "    text = re.sub(r\"won't\", \"will not\", text)\n",
        "    text = re.sub(r\"can\\'t\", \"can not\", text)\n",
        "    text = re.sub(r\"n\\'t\", \" not\", text)\n",
        "    text = re.sub(r\"\\'re\", \" are\", text)\n",
        "    text = re.sub(r\"\\'s\", \" is\", text)\n",
        "    text = re.sub(r\"\\'d\", \" would\", text)\n",
        "    text = re.sub(r\"\\'ll\", \" will\", text)\n",
        "    text = re.sub(r\"\\'t\", \" not\", text)\n",
        "    text = re.sub(r\"\\'ve\", \" have\", text)\n",
        "    text = re.sub(r\"\\'m\", \" am\", text)\n",
        "    \n",
        "    #Chunking\n",
        "    chunks=[]\n",
        "    chunks=(list(ne_chunk(pos_tag(word_tokenize(text)))))\n",
        "    \n",
        "    #Remove chunks which have label Person and combine GPE chunks\n",
        "    for chunk in chunks:\n",
        "        if type(chunk)==Tree:\n",
        "            if chunk.label()==\"PERSON\":\n",
        "                for word,pos in chunk.leaves():\n",
        "                    text = re.sub(re.escape(word),\"\",text, flags=re.MULTILINE)\n",
        "                    \n",
        "            if chunk.label()==\"GPE\":\n",
        "                leaves = chunk.leaves()\n",
        "                if len(leaves)>1: \n",
        "                    place = \"_\".join([word for word,pos in leaves])\n",
        "                    text = re.sub(rf'{leaves[1][0]}',place,text, flags=re.MULTILINE)              \n",
        "                    text = re.sub(rf'\\b{leaves[0][0]}\\b',\"\",text, flags=re.MULTILINE)\n",
        "    \n",
        "    #Remove all digits from text\n",
        "    text = re.sub(r'\\d',\"\",text, flags=re.MULTILINE)\n",
        "    \n",
        "    #Replace all the words except \"A-Za-z_\" with space. \n",
        "    text = re.sub(r\"[^a-zA-Z_]\",\" \",text) \n",
        "    \n",
        "    #Remove extra spaces\n",
        "    text = re.sub(r\" {2,}\",\" \",text,flags=re.MULTILINE) \n",
        "    return (list_of_preproessed_emails,subject,text)"
      ]
    },
    {
      "cell_type": "code",
      "source": [
        "get_ipython().system_raw(\"unrar x /content/drive/MyDrive/documents.rar\")"
      ],
      "metadata": {
        "id": "JWdJrGTvO3j8"
      },
      "execution_count": null,
      "outputs": []
    },
    {
      "cell_type": "code",
      "source": [
        "!unrar x \"/content/drive/MyDrive/documents.rar\" \"/content/drive/MyDrive/documents\""
      ],
      "metadata": {
        "colab": {
          "base_uri": "https://localhost:8080/"
        },
        "id": "ke2w1q9XZpe7",
        "outputId": "0c76dee8-34ef-48f4-be92-ded61363a898"
      },
      "execution_count": null,
      "outputs": [
        {
          "output_type": "stream",
          "name": "stdout",
          "text": [
            "\n",
            "UNRAR 5.50 freeware      Copyright (c) 1993-2017 Alexander Roshal\n",
            "\n",
            "\n",
            "Extracting from /content/drive/MyDrive/documents.rar\n",
            "\n",
            "No files to extract\n"
          ]
        }
      ]
    },
    {
      "cell_type": "code",
      "execution_count": null,
      "metadata": {
        "colab": {
          "base_uri": "https://localhost:8080/"
        },
        "id": "BEDTvl5VFwa-",
        "outputId": "ce699790-9490-4328-cd27-ffad2c7e0e56"
      },
      "outputs": [
        {
          "output_type": "stream",
          "name": "stderr",
          "text": [
            "100%|██████████| 18828/18828 [23:39<00:00, 13.27it/s]\n"
          ]
        }
      ],
      "source": [
        "directory = '/content/documents'\n",
        "preproessed_emails = []\n",
        "preproessed_subject = []\n",
        "preproessed_text = []\n",
        "actual_class_list = []\n",
        "actual_text = []\n",
        "# iterate over files in that directory\n",
        "for filename in tqdm(os.listdir(directory)):\n",
        "    actual_class = filename.split(\"_\")[0]\n",
        "    actual_class_list.append(actual_class)\n",
        "    f = os.path.join(directory, filename)\n",
        "    # checking if it is a file\n",
        "    if os.path.isfile(f):\n",
        "        pass\n",
        "    else:\n",
        "        continue\n",
        "    f = open('/content/documents/'+filename, \"r\",errors='replace')\n",
        "    #input_file_text = f.read()\n",
        "    list_of_preproessed_emails,subject,text = preprocess(f.read())\n",
        "    preproessed_emails.append(list_of_preproessed_emails)\n",
        "    preproessed_subject.append(subject)\n",
        "    preproessed_text.append(text)\n",
        "    actual_text.append(f.read())"
      ]
    },
    {
      "cell_type": "code",
      "execution_count": null,
      "metadata": {
        "colab": {
          "base_uri": "https://localhost:8080/",
          "height": 206
        },
        "id": "6-YsK4atFwa_",
        "outputId": "a60ae59a-1f4d-44b7-b009-cd917a07d747"
      },
      "outputs": [
        {
          "output_type": "execute_result",
          "data": {
            "text/plain": [
              "  text                   class  \\\n",
              "0                  alt.atheism   \n",
              "1        talk.politics.mideast   \n",
              "2                 misc.forsale   \n",
              "3                    sci.space   \n",
              "4       soc.religion.christian   \n",
              "\n",
              "                                   preprocessed_text  \\\n",
              "0  let me see if i understand what you are saying...   \n",
              "1                                       shut up andi   \n",
              "2  i need a large dog cage the kind you use to ho...   \n",
              "3  in article lossfsececmuedu i saw in the newspa...   \n",
              "4  be devoted to one another in brotherly love ho...   \n",
              "\n",
              "              preprocessed_subject  \\\n",
              "0  Keith Schneider  Stealth Poster   \n",
              "1                         Civility   \n",
              "2                   Large dog cage   \n",
              "3             Jemison on Star Trek   \n",
              "4                      Daily Verse   \n",
              "\n",
              "                                 preprocessed_emails  \n",
              "0                   cco caltech edu mouse cmhnet org  \n",
              "1                                                     \n",
              "2                                     andrew cmu edu  \n",
              "3  aurora alaska edu fs7 ece cmu edu acad3 alaska...  \n",
              "4                                      gvg47 gvg tek  "
            ],
            "text/html": [
              "\n",
              "  <div id=\"df-8995d2da-177a-4237-899b-da87bd4061f5\">\n",
              "    <div class=\"colab-df-container\">\n",
              "      <div>\n",
              "<style scoped>\n",
              "    .dataframe tbody tr th:only-of-type {\n",
              "        vertical-align: middle;\n",
              "    }\n",
              "\n",
              "    .dataframe tbody tr th {\n",
              "        vertical-align: top;\n",
              "    }\n",
              "\n",
              "    .dataframe thead th {\n",
              "        text-align: right;\n",
              "    }\n",
              "</style>\n",
              "<table border=\"1\" class=\"dataframe\">\n",
              "  <thead>\n",
              "    <tr style=\"text-align: right;\">\n",
              "      <th></th>\n",
              "      <th>text</th>\n",
              "      <th>class</th>\n",
              "      <th>preprocessed_text</th>\n",
              "      <th>preprocessed_subject</th>\n",
              "      <th>preprocessed_emails</th>\n",
              "    </tr>\n",
              "  </thead>\n",
              "  <tbody>\n",
              "    <tr>\n",
              "      <th>0</th>\n",
              "      <td></td>\n",
              "      <td>alt.atheism</td>\n",
              "      <td>let me see if i understand what you are saying...</td>\n",
              "      <td>Keith Schneider  Stealth Poster</td>\n",
              "      <td>cco caltech edu mouse cmhnet org</td>\n",
              "    </tr>\n",
              "    <tr>\n",
              "      <th>1</th>\n",
              "      <td></td>\n",
              "      <td>talk.politics.mideast</td>\n",
              "      <td>shut up andi</td>\n",
              "      <td>Civility</td>\n",
              "      <td></td>\n",
              "    </tr>\n",
              "    <tr>\n",
              "      <th>2</th>\n",
              "      <td></td>\n",
              "      <td>misc.forsale</td>\n",
              "      <td>i need a large dog cage the kind you use to ho...</td>\n",
              "      <td>Large dog cage</td>\n",
              "      <td>andrew cmu edu</td>\n",
              "    </tr>\n",
              "    <tr>\n",
              "      <th>3</th>\n",
              "      <td></td>\n",
              "      <td>sci.space</td>\n",
              "      <td>in article lossfsececmuedu i saw in the newspa...</td>\n",
              "      <td>Jemison on Star Trek</td>\n",
              "      <td>aurora alaska edu fs7 ece cmu edu acad3 alaska...</td>\n",
              "    </tr>\n",
              "    <tr>\n",
              "      <th>4</th>\n",
              "      <td></td>\n",
              "      <td>soc.religion.christian</td>\n",
              "      <td>be devoted to one another in brotherly love ho...</td>\n",
              "      <td>Daily Verse</td>\n",
              "      <td>gvg47 gvg tek</td>\n",
              "    </tr>\n",
              "  </tbody>\n",
              "</table>\n",
              "</div>\n",
              "      <button class=\"colab-df-convert\" onclick=\"convertToInteractive('df-8995d2da-177a-4237-899b-da87bd4061f5')\"\n",
              "              title=\"Convert this dataframe to an interactive table.\"\n",
              "              style=\"display:none;\">\n",
              "        \n",
              "  <svg xmlns=\"http://www.w3.org/2000/svg\" height=\"24px\"viewBox=\"0 0 24 24\"\n",
              "       width=\"24px\">\n",
              "    <path d=\"M0 0h24v24H0V0z\" fill=\"none\"/>\n",
              "    <path d=\"M18.56 5.44l.94 2.06.94-2.06 2.06-.94-2.06-.94-.94-2.06-.94 2.06-2.06.94zm-11 1L8.5 8.5l.94-2.06 2.06-.94-2.06-.94L8.5 2.5l-.94 2.06-2.06.94zm10 10l.94 2.06.94-2.06 2.06-.94-2.06-.94-.94-2.06-.94 2.06-2.06.94z\"/><path d=\"M17.41 7.96l-1.37-1.37c-.4-.4-.92-.59-1.43-.59-.52 0-1.04.2-1.43.59L10.3 9.45l-7.72 7.72c-.78.78-.78 2.05 0 2.83L4 21.41c.39.39.9.59 1.41.59.51 0 1.02-.2 1.41-.59l7.78-7.78 2.81-2.81c.8-.78.8-2.07 0-2.86zM5.41 20L4 18.59l7.72-7.72 1.47 1.35L5.41 20z\"/>\n",
              "  </svg>\n",
              "      </button>\n",
              "      \n",
              "  <style>\n",
              "    .colab-df-container {\n",
              "      display:flex;\n",
              "      flex-wrap:wrap;\n",
              "      gap: 12px;\n",
              "    }\n",
              "\n",
              "    .colab-df-convert {\n",
              "      background-color: #E8F0FE;\n",
              "      border: none;\n",
              "      border-radius: 50%;\n",
              "      cursor: pointer;\n",
              "      display: none;\n",
              "      fill: #1967D2;\n",
              "      height: 32px;\n",
              "      padding: 0 0 0 0;\n",
              "      width: 32px;\n",
              "    }\n",
              "\n",
              "    .colab-df-convert:hover {\n",
              "      background-color: #E2EBFA;\n",
              "      box-shadow: 0px 1px 2px rgba(60, 64, 67, 0.3), 0px 1px 3px 1px rgba(60, 64, 67, 0.15);\n",
              "      fill: #174EA6;\n",
              "    }\n",
              "\n",
              "    [theme=dark] .colab-df-convert {\n",
              "      background-color: #3B4455;\n",
              "      fill: #D2E3FC;\n",
              "    }\n",
              "\n",
              "    [theme=dark] .colab-df-convert:hover {\n",
              "      background-color: #434B5C;\n",
              "      box-shadow: 0px 1px 3px 1px rgba(0, 0, 0, 0.15);\n",
              "      filter: drop-shadow(0px 1px 2px rgba(0, 0, 0, 0.3));\n",
              "      fill: #FFFFFF;\n",
              "    }\n",
              "  </style>\n",
              "\n",
              "      <script>\n",
              "        const buttonEl =\n",
              "          document.querySelector('#df-8995d2da-177a-4237-899b-da87bd4061f5 button.colab-df-convert');\n",
              "        buttonEl.style.display =\n",
              "          google.colab.kernel.accessAllowed ? 'block' : 'none';\n",
              "\n",
              "        async function convertToInteractive(key) {\n",
              "          const element = document.querySelector('#df-8995d2da-177a-4237-899b-da87bd4061f5');\n",
              "          const dataTable =\n",
              "            await google.colab.kernel.invokeFunction('convertToInteractive',\n",
              "                                                     [key], {});\n",
              "          if (!dataTable) return;\n",
              "\n",
              "          const docLinkHtml = 'Like what you see? Visit the ' +\n",
              "            '<a target=\"_blank\" href=https://colab.research.google.com/notebooks/data_table.ipynb>data table notebook</a>'\n",
              "            + ' to learn more about interactive tables.';\n",
              "          element.innerHTML = '';\n",
              "          dataTable['output_type'] = 'display_data';\n",
              "          await google.colab.output.renderOutput(dataTable, element);\n",
              "          const docLink = document.createElement('div');\n",
              "          docLink.innerHTML = docLinkHtml;\n",
              "          element.appendChild(docLink);\n",
              "        }\n",
              "      </script>\n",
              "    </div>\n",
              "  </div>\n",
              "  "
            ]
          },
          "metadata": {},
          "execution_count": 8
        }
      ],
      "source": [
        "#Creating data frame\n",
        "data= {'text':actual_text,'class':actual_class_list,'preprocessed_text':preproessed_text,'preprocessed_subject':preproessed_subject,'preprocessed_emails':preproessed_emails}\n",
        "df = pd.DataFrame(data)\n",
        "df.head()"
      ]
    },
    {
      "cell_type": "code",
      "execution_count": null,
      "metadata": {
        "colab": {
          "base_uri": "https://localhost:8080/"
        },
        "id": "uHc6HvM5Fwa_",
        "outputId": "60031f7b-3dff-4e44-8959-464b7f1b82aa"
      },
      "outputs": [
        {
          "output_type": "execute_result",
          "data": {
            "text/plain": [
              "text                                                                     \n",
              "class                                                      comp.windows.x\n",
              "preprocessed_text       extract from the color readme file for anthony...\n",
              "preprocessed_subject                          COLORS and X windows AIcons\n",
              "preprocessed_emails                               kurango cit edu cit edu\n",
              "Name: 400, dtype: object"
            ]
          },
          "metadata": {},
          "execution_count": 9
        }
      ],
      "source": [
        "df.iloc[400]"
      ]
    },
    {
      "cell_type": "markdown",
      "metadata": {
        "id": "2x3og_iaYv1S"
      },
      "source": [
        "### After writing Preprocess function, call the function for each of the document(18828 docs) and then create a dataframe as mentioned above."
      ]
    },
    {
      "cell_type": "markdown",
      "metadata": {
        "id": "n3ucJLtWYv1V"
      },
      "source": [
        "### Training The models to Classify: \n",
        "\n",
        "<pre>\n",
        "1. Combine \"preprocessed_text\", \"preprocessed_subject\", \"preprocessed_emails\" into one column. use that column to model. \n",
        "\n",
        "2. Now Split the data into Train and test. use 25% for test also do a stratify split. \n",
        "\n",
        "3. Analyze your text data and pad the sequnce if required. \n",
        "Sequnce length is not restricted, you can use anything of your choice. \n",
        "you need to give the reasoning\n",
        "\n",
        "4. Do Tokenizer i.e convert text into numbers. please be careful while doing it. \n",
        "if you are using tf.keras \"Tokenizer\" API, it removes the <b>\"_\"</b>, but we need that.\n",
        "\n",
        "5. code the model's ( Model-1, Model-2 ) as discussed below \n",
        "and try to optimize that models.  \n",
        "\n",
        "6. For every model use predefined Glove vectors. \n",
        "<b>Don't train any word vectors while Training the model.</b>\n",
        "\n",
        "7. Use \"categorical_crossentropy\" as Loss. \n",
        "\n",
        "8. Use <b>Accuracy and Micro Avgeraged F1 score</b> as your as Key metrics to evaluate your model. \n",
        "\n",
        "9.  Use Tensorboard to plot the loss and Metrics based on the epoches.\n",
        "\n",
        "10. Please save your best model weights in to <b>'best_model_L.h5' ( L = 1 or 2 )</b>. \n",
        "\n",
        "11. You are free to choose any Activation function, learning rate, optimizer.\n",
        "But have to use the same architecture which we are giving below.\n",
        "\n",
        "12. You can add some layer to our architecture but you <b>deletion</b> of layer is not acceptable.\n",
        "\n",
        "13. Try to use <b>Early Stopping</b> technique or any of the callback techniques that you did in the previous assignments.\n",
        "\n",
        "14. For Every model save your model to image ( Plot the model) with shapes \n",
        "and inlcude those images in the notebook markdown cell, \n",
        "upload those imgages to Classroom. You can use \"plot_model\" \n",
        "please refer <a href='https://www.tensorflow.org/api_docs/python/tf/keras/utils/plot_model'>this</a> if you don't know how to plot the model with shapes. \n",
        "\n",
        "</pre>"
      ]
    },
    {
      "cell_type": "code",
      "execution_count": null,
      "metadata": {
        "id": "m-6_skDJFwbA"
      },
      "outputs": [],
      "source": [
        "#Combine \"preprocessed_text\", \"preprocessed_subject\", \"preprocessed_emails\" into one column. use that column to model\n",
        "df['preprocessed_x']= df['preprocessed_text'] + df['preprocessed_subject'] + df['preprocessed_emails']\n",
        "X = np.array(df['preprocessed_x'])\n",
        "y = np.array(df['class'])"
      ]
    },
    {
      "cell_type": "code",
      "execution_count": null,
      "metadata": {
        "id": "4K59Evz1FwbA"
      },
      "outputs": [],
      "source": [
        "#Split the data into Train and test\n",
        "X_train, X_test, y_train, y_test = train_test_split(X, y, test_size=0.25, stratify=y)"
      ]
    },
    {
      "cell_type": "code",
      "execution_count": null,
      "metadata": {
        "colab": {
          "base_uri": "https://localhost:8080/",
          "height": 493
        },
        "id": "W5c9ps7CFwbA",
        "outputId": "b7958839-8592-4c37-db17-3d8fb9dfcfa1"
      },
      "outputs": [
        {
          "output_type": "stream",
          "name": "stdout",
          "text": [
            "11033\n"
          ]
        },
        {
          "output_type": "execute_result",
          "data": {
            "text/plain": [
              "Text(0.5, 1.0, 'Distribution of length of text')"
            ]
          },
          "metadata": {},
          "execution_count": 12
        },
        {
          "output_type": "display_data",
          "data": {
            "text/plain": [
              "<Figure size 720x504 with 1 Axes>"
            ],
            "image/png": "[encoded data removed]"
          },
          "metadata": {
            "needs_background": "light"
          }
        }
      ],
      "source": [
        "# Analysis of distribution of length of text over dataset\n",
        "length_of_text_list = []\n",
        "for i in X:\n",
        "    text_list = i.split()\n",
        "    length_of_text_list.append(len(text_list))\n",
        "print(max(length_of_text_list))\n",
        "#Plot histogram for length of text distribution\n",
        "fig,hist = plt.subplots(figsize=(10,7))\n",
        "hist.hist(length_of_text_list)\n",
        "plt.xlabel('Number of docs')\n",
        "plt.ylabel('Text length')\n",
        "plt.title('Distribution of length of text')"
      ]
    },
    {
      "cell_type": "markdown",
      "metadata": {
        "id": "2QaeNUYJFwbA"
      },
      "source": [
        "### Observation:\n",
        "From above graph we can see that most of the documents have less than 1000 words and maximum words present in documents is 11033"
      ]
    },
    {
      "cell_type": "code",
      "source": [
        "#Tokenization\n",
        "t = Tokenizer(num_words=11033,filters='!\"#$%&()*+,-./:;<=>?@[\\\\]^`{|}~\\t\\n',) \n",
        "t.fit_on_texts(X_train)\n",
        "vocab_size = len(t.word_index) + 1\n",
        "print(\"Vocab size is\", vocab_size)\n",
        "\n",
        "#Encode text\n",
        "train_seq = t.texts_to_sequences(X_train)\n",
        "test_seq = t.texts_to_sequences(X_test)\n",
        "\n",
        "#Pad sequence to make them uniform length. Do padding upto 11033 length.\n",
        "train_seq_with_padding = pad_sequences(train_seq, maxlen=11033, padding='post',truncating='post')\n",
        "test_seq_with_padding = pad_sequences(test_seq, maxlen=11033, padding='post',truncating='post')\n",
        "\n",
        "train_seq_with_padding = np.array(train_seq_with_padding)\n",
        "test_seq_with_padding = np.array(test_seq_with_padding)\n",
        "print(train_seq_with_padding.shape)\n",
        "print(test_seq_with_padding.shape)\n",
        "print(train_seq_with_padding[0])\n"
      ],
      "metadata": {
        "colab": {
          "base_uri": "https://localhost:8080/"
        },
        "id": "47d2sfU5m8vq",
        "outputId": "7649fb2e-d16c-448a-e52e-5dd2bbd5b139"
      },
      "execution_count": null,
      "outputs": [
        {
          "output_type": "stream",
          "name": "stdout",
          "text": [
            "Vocab size is 133567\n",
            "(14121, 11033)\n",
            "(4707, 11033)\n",
            "[   8   22 1788 ...    0    0    0]\n"
          ]
        }
      ]
    },
    {
      "cell_type": "code",
      "source": [
        "from sklearn.preprocessing import LabelEncoder\n",
        "from tensorflow.keras import utils\n",
        "\n",
        "#Encode Y classes\n",
        "encoder = LabelEncoder()\n",
        "encoder.fit(y_train)\n",
        "y_train_le=encoder.transform(y_train)\n",
        "y_test_le=encoder.transform(y_test)\n",
        "print(y_train_le[0])\n",
        "\n",
        "y_train_cat = utils.to_categorical(y_train_le,20)\n",
        "y_test_cat = utils.to_categorical(y_test_le,20)\n",
        "print(y_train_cat[0])\n",
        "print(y_train_cat.shape)\n",
        "print(y_test_cat.shape)"
      ],
      "metadata": {
        "colab": {
          "base_uri": "https://localhost:8080/"
        },
        "id": "GVKHQJvTQlo3",
        "outputId": "1ebb9566-232a-4bed-b081-ecc6032ef0ab"
      },
      "execution_count": null,
      "outputs": [
        {
          "output_type": "stream",
          "name": "stdout",
          "text": [
            "7\n",
            "[0. 0. 0. 0. 0. 0. 0. 1. 0. 0. 0. 0. 0. 0. 0. 0. 0. 0. 0. 0.]\n",
            "(14121, 20)\n",
            "(4707, 20)\n"
          ]
        }
      ]
    },
    {
      "cell_type": "markdown",
      "metadata": {
        "id": "c0mwdtcvYv1X"
      },
      "source": [
        "### Model-1: Using 1D convolutions with word embeddings"
      ]
    },
    {
      "cell_type": "markdown",
      "metadata": {
        "id": "gXPPsovJ3ePk"
      },
      "source": [
        "<pre>\n",
        "<b>Encoding of the Text </b> --> For a given text data create a Matrix with Embedding layer as shown Below. \n",
        "In the example we have considered d = 5, but in this assignment we will get d = dimension of Word vectors we are using.\n",
        " i.e if we have maximum of 350 words in a sentence and embedding of 300 dim word vector, \n",
        " we result in 350*300 dimensional matrix for each sentance as output after embedding layer\n",
        "<img src='https://i.imgur.com/kiVQuk1.png'>\n",
        "Ref: https://i.imgur.com/kiVQuk1.png\n",
        "\n",
        "<b>Reference:</b>\n",
        "<a href='https://stackoverflow.com/a/43399308/4084039'>https://stackoverflow.com/a/43399308/4084039</a>\n",
        "<a href='https://missinglink.ai/guides/keras/keras-conv1d-working-1d-convolutional-neural-networks-keras/'>https://missinglink.ai/guides/keras/keras-conv1d-working-1d-convolutional-neural-networks-keras/</a>\n",
        "\n",
        "<b><a href='https://stats.stackexchange.com/questions/270546/how-does-keras-embedding-layer-work'>How EMBEDDING LAYER WORKS </a></b>\n",
        "\n",
        "</pre>\n",
        "\n",
        "### Go through this blog, if you have any doubt on using predefined Embedding values in Embedding layer - https://machinelearningmastery.com/use-word-embedding-layers-deep-learning-keras/"
      ]
    },
    {
      "cell_type": "markdown",
      "metadata": {
        "id": "wGVQKge3Yv1e"
      },
      "source": [
        "<img src='https://i.imgur.com/fv1GvFJ.png'>\n",
        "ref: 'https://i.imgur.com/fv1GvFJ.png'"
      ]
    },
    {
      "cell_type": "markdown",
      "metadata": {
        "id": "GC6SBG5AYv1f"
      },
      "source": [
        "<pre>\n",
        "1. all are Conv1D layers with any number of filter and filter sizes, there is no restriction on this.\n",
        "\n",
        "2. use concatenate layer is to concatenate all the filters/channels. \n",
        "\n",
        "3. You can use any pool size and stride for maxpooling layer.\n",
        "\n",
        "4. Don't use more than 16 filters in one Conv layer becuase it will increase the no of params. \n",
        "( Only recommendation if you have less computing power )\n",
        "\n",
        "5. You can use any number of layers after the Flatten Layer.\n",
        "</pre>"
      ]
    },
    {
      "cell_type": "code",
      "source": [
        "#Loading glove vectors\n",
        "import pickle\n",
        "\n",
        "with open('/content/drive/MyDrive/glove_vectors', 'rb') as f:\n",
        "    model = pickle.load(f)\n",
        "    glove_words =  set(model.keys())\n",
        "\n",
        "embedding_matrix = np.zeros((vocab_size,300))\n",
        "for word,index in t.word_index.items():\n",
        "  if word in glove_words:\n",
        "    vec = model[word]\n",
        "    embedding_matrix[index] = vec"
      ],
      "metadata": {
        "id": "MYMcOik1oPD2"
      },
      "execution_count": null,
      "outputs": []
    },
    {
      "cell_type": "code",
      "source": [
        "# Model 1\n",
        "input_layer = tf.keras.layers.Input((11033,))\n",
        "embedding_layer = tf.keras.layers.Embedding(vocab_size,300,weights=[embedding_matrix],input_length=11033,trainable=False)(input_layer)\n",
        "conv1 = tf.keras.layers.Conv1D(16, 6, activation='relu', padding='same')(embedding_layer)\n",
        "conv2 = tf.keras.layers.Conv1D(16, 4, activation='relu', padding='same')(embedding_layer)\n",
        "conv3 = tf.keras.layers.Conv1D(16, 2, activation='relu', padding='same')(embedding_layer)\n",
        "\n",
        "concatenate_layer1 = tf.keras.layers.Concatenate()([conv1,conv2,conv3])\n",
        "max_pool1 = tf.keras.layers.MaxPool1D(pool_size=(4), strides=(2), padding='same')(concatenate_layer1)\n",
        "\n",
        "conv4 = tf.keras.layers.Conv1D(14, 6, activation='relu', padding='same')(max_pool1)\n",
        "conv5 = tf.keras.layers.Conv1D(14, 4, activation='relu', padding='same')(max_pool1)\n",
        "conv6 = tf.keras.layers.Conv1D(14, 2, activation='relu', padding='same')(max_pool1)\n",
        "\n",
        "concatenate_layer2 = tf.keras.layers.Concatenate()([conv4,conv5,conv6])\n",
        "max_pool2 = tf.keras.layers.MaxPool1D(pool_size=(4), strides=(2), padding='same')(concatenate_layer2)\n",
        "\n",
        "conv7 = tf.keras.layers.Conv1D(12, 4, activation='relu', padding='same')(max_pool2)\n",
        "\n",
        "flatten_layer = tf.keras.layers.Flatten()(conv7)\n",
        "\n",
        "dropout_layer = tf.keras.layers.Dropout(0.5)(flatten_layer)\n",
        "dense_layer = tf.keras.layers.Dense(10, activation='relu')(dropout_layer)\n",
        "\n",
        "output_layer = tf.keras.layers.Dense(20,activation='softmax')(dense_layer)\n",
        "\n",
        "model_1 = keras.Model(input_layer, output_layer)\n",
        "model_1.summary()"
      ],
      "metadata": {
        "colab": {
          "base_uri": "https://localhost:8080/"
        },
        "id": "XKgSYv5OrAYU",
        "outputId": "8ab3cfcb-0813-49bc-d051-edb0df028348"
      },
      "execution_count": null,
      "outputs": [
        {
          "output_type": "stream",
          "name": "stdout",
          "text": [
            "Model: \"model\"\n",
            "__________________________________________________________________________________________________\n",
            " Layer (type)                   Output Shape         Param #     Connected to                     \n",
            "==================================================================================================\n",
            " input_1 (InputLayer)           [(None, 11033)]      0           []                               \n",
            "                                                                                                  \n",
            " embedding (Embedding)          (None, 11033, 300)   40070100    ['input_1[0][0]']                \n",
            "                                                                                                  \n",
            " conv1d (Conv1D)                (None, 11033, 16)    28816       ['embedding[0][0]']              \n",
            "                                                                                                  \n",
            " conv1d_1 (Conv1D)              (None, 11033, 16)    19216       ['embedding[0][0]']              \n",
            "                                                                                                  \n",
            " conv1d_2 (Conv1D)              (None, 11033, 16)    9616        ['embedding[0][0]']              \n",
            "                                                                                                  \n",
            " concatenate (Concatenate)      (None, 11033, 48)    0           ['conv1d[0][0]',                 \n",
            "                                                                  'conv1d_1[0][0]',               \n",
            "                                                                  'conv1d_2[0][0]']               \n",
            "                                                                                                  \n",
            " max_pooling1d (MaxPooling1D)   (None, 5517, 48)     0           ['concatenate[0][0]']            \n",
            "                                                                                                  \n",
            " conv1d_3 (Conv1D)              (None, 5517, 14)     4046        ['max_pooling1d[0][0]']          \n",
            "                                                                                                  \n",
            " conv1d_4 (Conv1D)              (None, 5517, 14)     2702        ['max_pooling1d[0][0]']          \n",
            "                                                                                                  \n",
            " conv1d_5 (Conv1D)              (None, 5517, 14)     1358        ['max_pooling1d[0][0]']          \n",
            "                                                                                                  \n",
            " concatenate_1 (Concatenate)    (None, 5517, 42)     0           ['conv1d_3[0][0]',               \n",
            "                                                                  'conv1d_4[0][0]',               \n",
            "                                                                  'conv1d_5[0][0]']               \n",
            "                                                                                                  \n",
            " max_pooling1d_1 (MaxPooling1D)  (None, 2759, 42)    0           ['concatenate_1[0][0]']          \n",
            "                                                                                                  \n",
            " conv1d_6 (Conv1D)              (None, 2759, 12)     2028        ['max_pooling1d_1[0][0]']        \n",
            "                                                                                                  \n",
            " flatten (Flatten)              (None, 33108)        0           ['conv1d_6[0][0]']               \n",
            "                                                                                                  \n",
            " dropout (Dropout)              (None, 33108)        0           ['flatten[0][0]']                \n",
            "                                                                                                  \n",
            " dense (Dense)                  (None, 10)           331090      ['dropout[0][0]']                \n",
            "                                                                                                  \n",
            " dense_1 (Dense)                (None, 20)           220         ['dense[0][0]']                  \n",
            "                                                                                                  \n",
            "==================================================================================================\n",
            "Total params: 40,469,192\n",
            "Trainable params: 399,092\n",
            "Non-trainable params: 40,070,100\n",
            "__________________________________________________________________________________________________\n"
          ]
        }
      ]
    },
    {
      "cell_type": "code",
      "source": [
        "#Plotting model\n",
        "keras.utils.plot_model(model_1, 'model_1.png', show_shapes=True)"
      ],
      "metadata": {
        "colab": {
          "base_uri": "https://localhost:8080/",
          "height": 992
        },
        "id": "MTViOYeG7Xtg",
        "outputId": "505c4954-00db-4e77-88d4-eccd30c0df45"
      },
      "execution_count": null,
      "outputs": [
        {
          "output_type": "execute_result",
          "data": {
            "text/plain": [
              "<IPython.core.display.Image object>"
            ],
            "image/png": "[encoded data removed]"
          },
          "metadata": {},
          "execution_count": 17
        }
      ]
    },
    {
      "cell_type": "code",
      "source": [
        "#Training model\n",
        "import tensorflow_addons as tfa\n",
        "\n",
        "tf.keras.backend.clear_session() \n",
        "! rm -rf ./logs/ \n",
        "logdir = os.path.join(\"logs\", datetime.datetime.now().strftime(\"%Y%m%d-%H%M%S\"))\n",
        "%load_ext tensorboard\n",
        "%tensorboard --logdir $logdir\n",
        "\n",
        "checkpoint_path = \"'best_model_1.h5'\"\n",
        "tensorboard_callback = tf.keras.callbacks.TensorBoard(logdir, histogram_freq=1,write_graph=True,write_grads=True)\n",
        "modelCheckPoint_callback = tf.keras.callbacks.ModelCheckpoint(filepath=checkpoint_path,monitor='val_accuracy',  verbose=1, save_best_only=True, mode='max') \n",
        "earlystopping_callback = tf.keras.callbacks.EarlyStopping(monitor='val_accuracy', min_delta=0.001,patience=2, verbose=1)\n",
        "\n",
        "callback_list=[tensorboard_callback,modelCheckPoint_callback,earlystopping_callback]\n",
        "\n",
        "model_1.compile(optimizer='adam',loss='categorical_crossentropy',metrics=['acc',tfa.metrics.F1Score(num_classes=20,average='micro',threshold=0.5)])\n",
        "model_1.fit(train_seq_with_padding, y_train_cat, batch_size=16, epochs=20, validation_data=(test_seq_with_padding,y_test_cat),callbacks=callback_list)"
      ],
      "metadata": {
        "colab": {
          "base_uri": "https://localhost:8080/",
          "height": 234
        },
        "id": "7R1LHuYo7y4i",
        "outputId": "e64ad749-b42d-4643-9c8f-b6b2320a24db"
      },
      "execution_count": null,
      "outputs": [
        {
          "output_type": "error",
          "ename": "NameError",
          "evalue": "ignored",
          "traceback": [
            "\u001b[0;31m---------------------------------------------------------------------------\u001b[0m",
            "\u001b[0;31mNameError\u001b[0m                                 Traceback (most recent call last)",
            "\u001b[0;32m<ipython-input-1-310b782d6325>\u001b[0m in \u001b[0;36m<module>\u001b[0;34m()\u001b[0m\n\u001b[1;32m      2\u001b[0m \u001b[0;32mimport\u001b[0m \u001b[0mtensorflow_addons\u001b[0m \u001b[0;32mas\u001b[0m \u001b[0mtfa\u001b[0m\u001b[0;34m\u001b[0m\u001b[0;34m\u001b[0m\u001b[0m\n\u001b[1;32m      3\u001b[0m \u001b[0;34m\u001b[0m\u001b[0m\n\u001b[0;32m----> 4\u001b[0;31m \u001b[0mtf\u001b[0m\u001b[0;34m.\u001b[0m\u001b[0mkeras\u001b[0m\u001b[0;34m.\u001b[0m\u001b[0mbackend\u001b[0m\u001b[0;34m.\u001b[0m\u001b[0mclear_session\u001b[0m\u001b[0;34m(\u001b[0m\u001b[0;34m)\u001b[0m\u001b[0;34m\u001b[0m\u001b[0;34m\u001b[0m\u001b[0m\n\u001b[0m\u001b[1;32m      5\u001b[0m \u001b[0mget_ipython\u001b[0m\u001b[0;34m(\u001b[0m\u001b[0;34m)\u001b[0m\u001b[0;34m.\u001b[0m\u001b[0msystem\u001b[0m\u001b[0;34m(\u001b[0m\u001b[0;34m' rm -rf ./logs/ '\u001b[0m\u001b[0;34m)\u001b[0m\u001b[0;34m\u001b[0m\u001b[0;34m\u001b[0m\u001b[0m\n\u001b[1;32m      6\u001b[0m \u001b[0mlogdir\u001b[0m \u001b[0;34m=\u001b[0m \u001b[0mos\u001b[0m\u001b[0;34m.\u001b[0m\u001b[0mpath\u001b[0m\u001b[0;34m.\u001b[0m\u001b[0mjoin\u001b[0m\u001b[0;34m(\u001b[0m\u001b[0;34m\"logs\"\u001b[0m\u001b[0;34m,\u001b[0m \u001b[0mdatetime\u001b[0m\u001b[0;34m.\u001b[0m\u001b[0mdatetime\u001b[0m\u001b[0;34m.\u001b[0m\u001b[0mnow\u001b[0m\u001b[0;34m(\u001b[0m\u001b[0;34m)\u001b[0m\u001b[0;34m.\u001b[0m\u001b[0mstrftime\u001b[0m\u001b[0;34m(\u001b[0m\u001b[0;34m\"%Y%m%d-%H%M%S\"\u001b[0m\u001b[0;34m)\u001b[0m\u001b[0;34m)\u001b[0m\u001b[0;34m\u001b[0m\u001b[0;34m\u001b[0m\u001b[0m\n",
            "\u001b[0;31mNameError\u001b[0m: name 'tf' is not defined"
          ]
        }
      ]
    },
    {
      "cell_type": "code",
      "source": [
        "!pip install tensorflow_addons"
      ],
      "metadata": {
        "colab": {
          "base_uri": "https://localhost:8080/"
        },
        "id": "5mplRHzMgQMh",
        "outputId": "321b9929-9dc5-4205-b713-60c31daea59b"
      },
      "execution_count": null,
      "outputs": [
        {
          "output_type": "stream",
          "name": "stdout",
          "text": [
            "Collecting tensorflow_addons\n",
            "  Downloading tensorflow_addons-0.16.1-cp37-cp37m-manylinux_2_12_x86_64.manylinux2010_x86_64.whl (1.1 MB)\n",
            "\u001b[?25l\r\u001b[K     |▎                               | 10 kB 24.3 MB/s eta 0:00:01\r\u001b[K     |▋                               | 20 kB 34.0 MB/s eta 0:00:01\r\u001b[K     |▉                               | 30 kB 37.8 MB/s eta 0:00:01\r\u001b[K     |█▏                              | 40 kB 13.3 MB/s eta 0:00:01\r\u001b[K     |█▌                              | 51 kB 11.9 MB/s eta 0:00:01\r\u001b[K     |█▊                              | 61 kB 13.5 MB/s eta 0:00:01\r\u001b[K     |██                              | 71 kB 13.6 MB/s eta 0:00:01\r\u001b[K     |██▍                             | 81 kB 13.5 MB/s eta 0:00:01\r\u001b[K     |██▋                             | 92 kB 14.9 MB/s eta 0:00:01\r\u001b[K     |███                             | 102 kB 12.6 MB/s eta 0:00:01\r\u001b[K     |███▏                            | 112 kB 12.6 MB/s eta 0:00:01\r\u001b[K     |███▌                            | 122 kB 12.6 MB/s eta 0:00:01\r\u001b[K     |███▉                            | 133 kB 12.6 MB/s eta 0:00:01\r\u001b[K     |████                            | 143 kB 12.6 MB/s eta 0:00:01\r\u001b[K     |████▍                           | 153 kB 12.6 MB/s eta 0:00:01\r\u001b[K     |████▊                           | 163 kB 12.6 MB/s eta 0:00:01\r\u001b[K     |█████                           | 174 kB 12.6 MB/s eta 0:00:01\r\u001b[K     |█████▎                          | 184 kB 12.6 MB/s eta 0:00:01\r\u001b[K     |█████▌                          | 194 kB 12.6 MB/s eta 0:00:01\r\u001b[K     |█████▉                          | 204 kB 12.6 MB/s eta 0:00:01\r\u001b[K     |██████▏                         | 215 kB 12.6 MB/s eta 0:00:01\r\u001b[K     |██████▍                         | 225 kB 12.6 MB/s eta 0:00:01\r\u001b[K     |██████▊                         | 235 kB 12.6 MB/s eta 0:00:01\r\u001b[K     |███████                         | 245 kB 12.6 MB/s eta 0:00:01\r\u001b[K     |███████▎                        | 256 kB 12.6 MB/s eta 0:00:01\r\u001b[K     |███████▋                        | 266 kB 12.6 MB/s eta 0:00:01\r\u001b[K     |███████▉                        | 276 kB 12.6 MB/s eta 0:00:01\r\u001b[K     |████████▏                       | 286 kB 12.6 MB/s eta 0:00:01\r\u001b[K     |████████▌                       | 296 kB 12.6 MB/s eta 0:00:01\r\u001b[K     |████████▊                       | 307 kB 12.6 MB/s eta 0:00:01\r\u001b[K     |█████████                       | 317 kB 12.6 MB/s eta 0:00:01\r\u001b[K     |█████████▍                      | 327 kB 12.6 MB/s eta 0:00:01\r\u001b[K     |█████████▋                      | 337 kB 12.6 MB/s eta 0:00:01\r\u001b[K     |██████████                      | 348 kB 12.6 MB/s eta 0:00:01\r\u001b[K     |██████████▏                     | 358 kB 12.6 MB/s eta 0:00:01\r\u001b[K     |██████████▌                     | 368 kB 12.6 MB/s eta 0:00:01\r\u001b[K     |██████████▉                     | 378 kB 12.6 MB/s eta 0:00:01\r\u001b[K     |███████████                     | 389 kB 12.6 MB/s eta 0:00:01\r\u001b[K     |███████████▍                    | 399 kB 12.6 MB/s eta 0:00:01\r\u001b[K     |███████████▊                    | 409 kB 12.6 MB/s eta 0:00:01\r\u001b[K     |████████████                    | 419 kB 12.6 MB/s eta 0:00:01\r\u001b[K     |████████████▎                   | 430 kB 12.6 MB/s eta 0:00:01\r\u001b[K     |████████████▌                   | 440 kB 12.6 MB/s eta 0:00:01\r\u001b[K     |████████████▉                   | 450 kB 12.6 MB/s eta 0:00:01\r\u001b[K     |█████████████▏                  | 460 kB 12.6 MB/s eta 0:00:01\r\u001b[K     |█████████████▍                  | 471 kB 12.6 MB/s eta 0:00:01\r\u001b[K     |█████████████▊                  | 481 kB 12.6 MB/s eta 0:00:01\r\u001b[K     |██████████████                  | 491 kB 12.6 MB/s eta 0:00:01\r\u001b[K     |██████████████▎                 | 501 kB 12.6 MB/s eta 0:00:01\r\u001b[K     |██████████████▋                 | 512 kB 12.6 MB/s eta 0:00:01\r\u001b[K     |██████████████▉                 | 522 kB 12.6 MB/s eta 0:00:01\r\u001b[K     |███████████████▏                | 532 kB 12.6 MB/s eta 0:00:01\r\u001b[K     |███████████████▌                | 542 kB 12.6 MB/s eta 0:00:01\r\u001b[K     |███████████████▊                | 552 kB 12.6 MB/s eta 0:00:01\r\u001b[K     |████████████████                | 563 kB 12.6 MB/s eta 0:00:01\r\u001b[K     |████████████████▍               | 573 kB 12.6 MB/s eta 0:00:01\r\u001b[K     |████████████████▋               | 583 kB 12.6 MB/s eta 0:00:01\r\u001b[K     |█████████████████               | 593 kB 12.6 MB/s eta 0:00:01\r\u001b[K     |█████████████████▏              | 604 kB 12.6 MB/s eta 0:00:01\r\u001b[K     |█████████████████▌              | 614 kB 12.6 MB/s eta 0:00:01\r\u001b[K     |█████████████████▉              | 624 kB 12.6 MB/s eta 0:00:01\r\u001b[K     |██████████████████              | 634 kB 12.6 MB/s eta 0:00:01\r\u001b[K     |██████████████████▍             | 645 kB 12.6 MB/s eta 0:00:01\r\u001b[K     |██████████████████▊             | 655 kB 12.6 MB/s eta 0:00:01\r\u001b[K     |███████████████████             | 665 kB 12.6 MB/s eta 0:00:01\r\u001b[K     |███████████████████▎            | 675 kB 12.6 MB/s eta 0:00:01\r\u001b[K     |███████████████████▌            | 686 kB 12.6 MB/s eta 0:00:01\r\u001b[K     |███████████████████▉            | 696 kB 12.6 MB/s eta 0:00:01\r\u001b[K     |████████████████████▏           | 706 kB 12.6 MB/s eta 0:00:01\r\u001b[K     |████████████████████▍           | 716 kB 12.6 MB/s eta 0:00:01\r\u001b[K     |████████████████████▊           | 727 kB 12.6 MB/s eta 0:00:01\r\u001b[K     |█████████████████████           | 737 kB 12.6 MB/s eta 0:00:01\r\u001b[K     |█████████████████████▎          | 747 kB 12.6 MB/s eta 0:00:01\r\u001b[K     |█████████████████████▋          | 757 kB 12.6 MB/s eta 0:00:01\r\u001b[K     |█████████████████████▉          | 768 kB 12.6 MB/s eta 0:00:01\r\u001b[K     |██████████████████████▏         | 778 kB 12.6 MB/s eta 0:00:01\r\u001b[K     |██████████████████████▌         | 788 kB 12.6 MB/s eta 0:00:01\r\u001b[K     |██████████████████████▊         | 798 kB 12.6 MB/s eta 0:00:01\r\u001b[K     |███████████████████████         | 808 kB 12.6 MB/s eta 0:00:01\r\u001b[K     |███████████████████████▍        | 819 kB 12.6 MB/s eta 0:00:01\r\u001b[K     |███████████████████████▋        | 829 kB 12.6 MB/s eta 0:00:01\r\u001b[K     |████████████████████████        | 839 kB 12.6 MB/s eta 0:00:01\r\u001b[K     |████████████████████████▏       | 849 kB 12.6 MB/s eta 0:00:01\r\u001b[K     |████████████████████████▌       | 860 kB 12.6 MB/s eta 0:00:01\r\u001b[K     |████████████████████████▉       | 870 kB 12.6 MB/s eta 0:00:01\r\u001b[K     |█████████████████████████       | 880 kB 12.6 MB/s eta 0:00:01\r\u001b[K     |█████████████████████████▍      | 890 kB 12.6 MB/s eta 0:00:01\r\u001b[K     |█████████████████████████▊      | 901 kB 12.6 MB/s eta 0:00:01\r\u001b[K     |██████████████████████████      | 911 kB 12.6 MB/s eta 0:00:01\r\u001b[K     |██████████████████████████▎     | 921 kB 12.6 MB/s eta 0:00:01\r\u001b[K     |██████████████████████████▌     | 931 kB 12.6 MB/s eta 0:00:01\r\u001b[K     |██████████████████████████▉     | 942 kB 12.6 MB/s eta 0:00:01\r\u001b[K     |███████████████████████████▏    | 952 kB 12.6 MB/s eta 0:00:01\r\u001b[K     |███████████████████████████▍    | 962 kB 12.6 MB/s eta 0:00:01\r\u001b[K     |███████████████████████████▊    | 972 kB 12.6 MB/s eta 0:00:01\r\u001b[K     |████████████████████████████    | 983 kB 12.6 MB/s eta 0:00:01\r\u001b[K     |████████████████████████████▎   | 993 kB 12.6 MB/s eta 0:00:01\r\u001b[K     |████████████████████████████▋   | 1.0 MB 12.6 MB/s eta 0:00:01\r\u001b[K     |████████████████████████████▉   | 1.0 MB 12.6 MB/s eta 0:00:01\r\u001b[K     |█████████████████████████████▏  | 1.0 MB 12.6 MB/s eta 0:00:01\r\u001b[K     |█████████████████████████████▌  | 1.0 MB 12.6 MB/s eta 0:00:01\r\u001b[K     |█████████████████████████████▊  | 1.0 MB 12.6 MB/s eta 0:00:01\r\u001b[K     |██████████████████████████████  | 1.1 MB 12.6 MB/s eta 0:00:01\r\u001b[K     |██████████████████████████████▍ | 1.1 MB 12.6 MB/s eta 0:00:01\r\u001b[K     |██████████████████████████████▋ | 1.1 MB 12.6 MB/s eta 0:00:01\r\u001b[K     |███████████████████████████████ | 1.1 MB 12.6 MB/s eta 0:00:01\r\u001b[K     |███████████████████████████████▏| 1.1 MB 12.6 MB/s eta 0:00:01\r\u001b[K     |███████████████████████████████▌| 1.1 MB 12.6 MB/s eta 0:00:01\r\u001b[K     |███████████████████████████████▉| 1.1 MB 12.6 MB/s eta 0:00:01\r\u001b[K     |████████████████████████████████| 1.1 MB 12.6 MB/s \n",
            "\u001b[?25hRequirement already satisfied: typeguard>=2.7 in /usr/local/lib/python3.7/dist-packages (from tensorflow_addons) (2.7.1)\n",
            "Installing collected packages: tensorflow-addons\n",
            "Successfully installed tensorflow-addons-0.16.1\n"
          ]
        }
      ]
    },
    {
      "cell_type": "markdown",
      "metadata": {
        "id": "9cg4L1V4Yv1d"
      },
      "source": [
        "### Model-2 : Using 1D convolutions with character embedding"
      ]
    },
    {
      "cell_type": "markdown",
      "metadata": {
        "id": "2Djg4YVA3oQx"
      },
      "source": [
        "<pre>\n",
        "<pre><img src=\"https://i.ytimg.com/vi/CNY8VjJt-iQ/maxresdefault.jpg\" width=\"70%\">\n",
        "Here are the some papers based on Char-CNN\n",
        " 1. Xiang Zhang, Junbo Zhao, Yann LeCun. <a href=\"http://arxiv.org/abs/1509.01626\">Character-level Convolutional Networks for Text Classification</a>.NIPS 2015\n",
        " 2. Yoon Kim, Yacine Jernite, David Sontag, Alexander M. Rush. <a href=\"https://arxiv.org/abs/1508.06615\">Character-Aware Neural Language Models</a>. AAAI 2016\n",
        " 3. Shaojie Bai, J. Zico Kolter, Vladlen Koltun. <a href=\"https://arxiv.org/pdf/1803.01271.pdf\">An Empirical Evaluation of Generic Convolutional and Recurrent Networks for Sequence Modeling</a>\n",
        " 4. Use the pratrained char embeddings <a href='https://github.com/minimaxir/char-embeddings/blob/master/glove.840B.300d-char.txt'>https://github.com/minimaxir/char-embeddings/blob/master/glove.840B.300d-char.txt</a>\n",
        "</pre>"
      ]
    },
    {
      "cell_type": "markdown",
      "metadata": {
        "id": "VXvKSEIeSvN5"
      },
      "source": [
        "<img src='https://i.imgur.com/EuuoJtr.png'>"
      ]
    },
    {
      "cell_type": "code",
      "source": [
        "#Prepare data for Model 2\n",
        "#For char cnn data should not be preprocessed\n",
        "X2 = np.array(df['text'])\n",
        "X2 = [s.lower() for s in X2]\n",
        "y2 = np.array(df['class'])\n",
        "\n",
        "#Split the data into Train and test\n",
        "X2_train, X2_test, y2_train, y2_test = train_test_split(X2, y2, test_size=0.25, stratify=y)\n",
        "\n",
        "#Encode Y classes\n",
        "y2_train_cat = utils.to_categorical(y2_train)\n",
        "y2_test_cat = utils.to_categorical(y2_test)\n",
        "print(y2_train_cat.shape)\n",
        "print(y2_test_cat.shape)"
      ],
      "metadata": {
        "id": "zqihsf_LsqFA"
      },
      "execution_count": null,
      "outputs": []
    },
    {
      "cell_type": "code",
      "source": [
        "#https://towardsdatascience.com/character-level-cnn-with-keras-50391c3adf33\n",
        "#Tokenization for model 2\n",
        "token = Tokenizer(num_words=None, char_level=True, oov_token='UNK')\n",
        "token.fit_on_texts(X2_train)\n",
        "\n",
        "alphabet = \"abcdefghijklmnopqrstuvwxyz0123456789,;.!?:'\\\"/\\\\|_@#$%^&*~`+-=<>()[]{} \"\n",
        "char_dict = {}\n",
        "for i, char in enumerate(alphabet):\n",
        "    char_dict[char] = i + 1\n",
        "\n",
        "# Use char_dict to replace the tk.word_index\n",
        "token.word_index = char_dict.copy()\n",
        "\n",
        "# Add 'UNK'(unknown) to the vocabulary\n",
        "token.word_index[token.oov_token] = max(char_dict.values()) + 1\n",
        "vocab_size= len(token.word_index)\n",
        "\n",
        "# integer encode the documents\n",
        "train2_sequence2 = token.texts_to_sequences(X2_train)\n",
        "test2_sequence2 = token.texts_to_sequences(X2_test)\n",
        "\n",
        "#Get maximum chars in one coc\n",
        "char_length_list = []\n",
        "for i in X2_train:\n",
        "  char_count = 0\n",
        "  for char in i:\n",
        "    char_count += 1\n",
        "  char_length_list.append(char_count)\n",
        "print(max(char_length_list))\n",
        "max_length=max(char_length_list)\n",
        "\n",
        "# pad documents to a max length of max_length\n",
        "train2_seq_with_padding = pad_sequences(train2_sequence2, maxlen=max_length, padding='post',truncating='post')\n",
        "test2_seq_with_padding = pad_sequences(test2_sequence2, maxlen=max_length, padding='post',truncating='post')\n",
        "\n",
        "train2_seq_with_padding = np.array(train2_seq_with_padding)\n",
        "test2_seq_with_padding = np.array(test2_seq_with_padding)\n",
        "\n",
        "print(train2_seq_with_padding.shape)\n",
        "print(test2_seq_with_padding.shape)"
      ],
      "metadata": {
        "id": "ahHL08_6rTsB"
      },
      "execution_count": null,
      "outputs": []
    },
    {
      "cell_type": "code",
      "source": [
        "#Embedding matrix\n",
        "embedding_weights = []\n",
        "embedding_weights.append(np.zeros(vocab_size))\n",
        "for char, i in token.word_index.items():\n",
        "  onehot= np.zeros(vocab_size)\n",
        "  onehot[i-1]=1\n",
        "  embedding_weights.append(onehot)\n",
        "embedding_weights= np.array(embedding_weights)"
      ],
      "metadata": {
        "id": "Qa65GPe3rdyh"
      },
      "execution_count": null,
      "outputs": []
    },
    {
      "cell_type": "code",
      "source": [
        "#Model 2 architecture\n",
        "input_layer = tf.keras.layers.Input((max_length,))\n",
        "emedding_layer = tf.keras.layers.Embedding(vocab_size+1,vocab_size, weights=[embedding_weights], trainable=False)(input_layer)\n",
        "\n",
        "conv1= tf.keras.layers.Conv1D(16, 6, activation='relu')(emedding_layer)\n",
        "conv2= tf.keras.layers.Conv1D(16, 4, activation='relu')(conv1)\n",
        "\n",
        "max_pool1= tf.keras.layers.MaxPool1D(pool_size=(4), padding='same')(conv2)\n",
        "\n",
        "conv3= tf.keras.layers.Conv1D(16, 4, activation='relu')(max_pool1)\n",
        "conv4= tf.keras.layers.Conv1D(16, 2, activation='relu')(conv3)\n",
        "\n",
        "max_pool2= tf.keras.layers.MaxPool1D(pool_size=(4),padding='same')(conv4)\n",
        "\n",
        "flatten_layer=tf.keras.layers.Flatten()(max_pool2)\n",
        "dropout_layer = tf.keras.layers.Dropout(0.5)(flatten_layer)\n",
        "dense_layer = tf.keras.layers.Dense(10, activation='relu')(dropout_layer)\n",
        "output_layer = layers.Dense(20,activation='softmax')(dense_layer)\n",
        "\n",
        "model_2 = keras.Model(input_layer, output_layer)\n",
        "keras.utils.plot_model(model_2, 'model_2.png', show_shapes=True)"
      ],
      "metadata": {
        "id": "odC_fG2z0jfC"
      },
      "execution_count": null,
      "outputs": []
    },
    {
      "cell_type": "code",
      "source": [
        "#Training model 2\n",
        "tf.keras.backend.clear_session() \n",
        "! rm -rf ./logs/ \n",
        "logdir = os.path.join(\"logs\", datetime.datetime.now().strftime(\"%Y%m%d-%H%M%S\"))\n",
        "%load_ext tensorboard\n",
        "%tensorboard --logdir $logdir\n",
        "\n",
        "checkpoint_path = \"'best_model_2.h5'\"\n",
        "tensorboard_callback = tf.keras.callbacks.TensorBoard(logdir, histogram_freq=1,write_graph=True,write_grads=True)\n",
        "modelCheckPoint_callback = tf.keras.callbacks.ModelCheckpoint(filepath=checkpoint_path,monitor='val_accuracy',  verbose=1, save_best_only=True, mode='max') \n",
        "earlystopping_callback = tf.keras.callbacks.EarlyStopping(monitor='val_accuracy', min_delta=0.001,patience=2, verbose=1)\n",
        "\n",
        "callback_list=[tensorboard_callback,modelCheckPoint_callback,earlystopping_callback]\n",
        "\n",
        "model_2.compile(optimizer='adam',loss='categorical_crossentropy',metrics=['acc',tfa.metrics.F1Score(num_classes=20,average='micro',threshold=0.5)])\n",
        "model_2.fit(train2_seq_with_padding, y2_train_cat, batch_size=16, epochs=20, validation_data=(test2_seq_with_padding,y2_test_cat),callbacks=callback_list)"
      ],
      "metadata": {
        "id": "mgqpeMzJ2dRX"
      },
      "execution_count": null,
      "outputs": []
    }
  ],
  "metadata": {
    "colab": {
      "collapsed_sections": [],
      "name": "Text Classification Assignment.ipynb",
      "provenance": []
    },
    "kernelspec": {
      "display_name": "Python 3",
      "language": "python",
      "name": "python3"
    },
    "language_info": {
      "codemirror_mode": {
        "name": "ipython",
        "version": 3
      },
      "file_extension": ".py",
      "mimetype": "text/x-python",
      "name": "python",
      "nbconvert_exporter": "python",
      "pygments_lexer": "ipython3",
      "version": "3.6.5"
    },
    "accelerator": "GPU"
  },
  "nbformat": 4,
  "nbformat_minor": 0
}